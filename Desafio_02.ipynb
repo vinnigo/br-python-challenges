{
 "cells": [
  {
   "cell_type": "markdown",
   "metadata": {
    "colab_type": "text",
    "id": "view-in-github"
   },
   "source": [
    "<a href=\"https://colab.research.google.com/github/WittmannF/br-data-science/blob/master/python/challenges/Desafio_2.ipynb\" target=\"_parent\"><img src=\"https://colab.research.google.com/assets/colab-badge.svg\" alt=\"Open In Colab\"/></a>"
   ]
  },
  {
   "cell_type": "markdown",
   "metadata": {
    "colab_type": "text",
    "id": "q1NCks7Af6JN"
   },
   "source": [
    "### Desafio 2\n",
    "\n",
    "Escreva uma função que recebe um número inteiro de horas e a converte em segundos.\n",
    "\n",
    "Exemplo:\n",
    "\n",
    "convert(5) ➞ 18000\n",
    "\n",
    "convert(3) ➞ 10800\n",
    "\n",
    "convert(2) ➞ 7200"
   ]
  },
  {
   "cell_type": "code",
   "execution_count": 25,
   "metadata": {
    "colab": {},
    "colab_type": "code",
    "id": "sSm6F7sff6JO"
   },
   "outputs": [],
   "source": [
    "def convert_to_sec(number):\n",
    "    if number >= 1:\n",
    "        print (number, \"hours is equal to\", number*3600, \"seconds\")\n",
    "    else:\n",
    "        print (number, \"hour is equal to\", number*3600, \"seconds\")"
   ]
  },
  {
   "cell_type": "code",
   "execution_count": 26,
   "metadata": {},
   "outputs": [
    {
     "name": "stdout",
     "output_type": "stream",
     "text": [
      "Informe a hora: 5\n",
      "5 hours is equal to 18000 seconds\n"
     ]
    }
   ],
   "source": [
    "while True:\n",
    "    try:\n",
    "        horas = int(input(\"Informe a hora: \"))\n",
    "        if not 0 <= horas:\n",
    "            raise ValueError(\"Hora fora do range permitido\")\n",
    "    except ValueError as e:\n",
    "        print(\"Valor inválido, digito um número inteiro\")\n",
    "    else:\n",
    "        break\n",
    "convert_to_sec(horas)"
   ]
  },
  {
   "cell_type": "code",
   "execution_count": null,
   "metadata": {},
   "outputs": [],
   "source": []
  }
 ],
 "metadata": {
  "anaconda-cloud": {},
  "colab": {
   "include_colab_link": true,
   "name": "Desafio 2.ipynb",
   "provenance": []
  },
  "kernelspec": {
   "display_name": "Python 3",
   "language": "python",
   "name": "python3"
  },
  "language_info": {
   "codemirror_mode": {
    "name": "ipython",
    "version": 3
   },
   "file_extension": ".py",
   "mimetype": "text/x-python",
   "name": "python",
   "nbconvert_exporter": "python",
   "pygments_lexer": "ipython3",
   "version": "3.8.3"
  }
 },
 "nbformat": 4,
 "nbformat_minor": 1
}
