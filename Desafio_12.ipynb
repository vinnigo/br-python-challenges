{
 "cells": [
  {
   "cell_type": "markdown",
   "metadata": {
    "colab_type": "text",
    "id": "view-in-github"
   },
   "source": [
    "<a href=\"https://colab.research.google.com/github/WittmannF/br-data-science/blob/master/python/challenges/Desafio_12.ipynb\" target=\"_parent\"><img src=\"https://colab.research.google.com/assets/colab-badge.svg\" alt=\"Open In Colab\"/></a>"
   ]
  },
  {
   "cell_type": "markdown",
   "metadata": {
    "colab_type": "text",
    "id": "AYHY2YXQf6J2"
   },
   "source": [
    "### Desafio 12\n",
    "\n",
    "Escreva uma função em Python para verificar a validade de uma senha.\n",
    "\n",
    "Validação:\n",
    "\n",
    "* Pelo menos 1 letra entre [a-z] e 1 letra entre [A-Z].\n",
    "* Pelo menos 1 número entre [0-9].\n",
    "* Pelo menos 1 caractere de [$ # @].\n",
    "* Comprimento mínimo de 6 caracteres.\n",
    "* Comprimento máximo de 16 caracteres.\n",
    "\n",
    "Entradas: \"12345678\", \"J3sus0\", \"#Te5t300\", \"J*90j12374\", \"Michheeul\", \"Monk3y6\"\n",
    "\n",
    "A saída deve ser a senha e um texto indicando se a senha é válida ou inválida:\n",
    "\n",
    "```\n",
    "\"1234\" - Senha inválida\n",
    "\"Qw#1234\" - Senha válida\n",
    "```"
   ]
  },
  {
   "cell_type": "code",
   "execution_count": 11,
   "metadata": {
    "colab": {},
    "colab_type": "code",
    "id": "UGgtGYGGf6J3"
   },
   "outputs": [
    {
     "name": "stdout",
     "output_type": "stream",
     "text": [
      "12345678 - Senha invalidada\n",
      "J3sus0 - Senha invalidada\n",
      "#Te5t300 - Senha validada\n",
      "J*90j12374 - Senha validada\n",
      "Michheeul - Senha invalidada\n",
      "Monk3y6 - Senha invalidada\n"
     ]
    }
   ],
   "source": [
    "import re\n",
    "\n",
    "def test_password(password):\n",
    "\n",
    "    min_len = 6\n",
    "    max_len = 16\n",
    "    min_number = 1\n",
    "    min_upper_char = 1\n",
    "    min_lower_char = 1\n",
    "    min_special_char = 1\n",
    "\n",
    "\n",
    "    if len(password) < min_len or len(password) > max_len or len(re.findall(r\"[A-Z]\", password)) < min_upper_char or \\\n",
    "    len(re.findall(r\"[a-z]\", password)) < min_lower_char or len(re.findall(r\"[0–9]\", password)) < min_number or \\\n",
    "    len(re.findall(r\"[!@#$%&*]\", password)) < min_special_char:\n",
    "        print(password, '- Senha invalidada')\n",
    "    else:\n",
    "        print(password, '- Senha validada')\n",
    " \n",
    "test_password('12345678')\n",
    "test_password('J3sus0')\n",
    "test_password('#Te5t300')\n",
    "test_password('J*90j12374')\n",
    "test_password('Michheeul')\n",
    "test_password('Monk3y6')"
   ]
  },
  {
   "cell_type": "code",
   "execution_count": 25,
   "metadata": {
    "colab": {},
    "colab_type": "code",
    "id": "n8F01NzD9uHm"
   },
   "outputs": [
    {
     "name": "stdout",
     "output_type": "stream",
     "text": [
      "12345678 - Senha invalidada\n",
      "J3sus0 - Senha invalidada\n",
      "#Te5t300 - Senha validada\n",
      "J*90j12374 - Senha validada\n",
      "Michheeul - Senha invalidada\n",
      "Monk3y6 - Senha invalidada\n"
     ]
    }
   ],
   "source": [
    "import re\n",
    "\n",
    "def test_password(password):\n",
    "\n",
    "    if re.findall(r\"^(?=.*[0-9])(?=.*[a-z])(?=.*[A-Z])(?=.*[!@#$%<^&*?])[a-zA-Z0-9!@#$%<^&*?]{6,16}$\", password)==[]:\n",
    "        print(password, '- Senha invalidada')\n",
    "    else:\n",
    "        print(password, '- Senha validada')\n",
    " \n",
    "test_password('12345678')\n",
    "test_password('J3sus0')\n",
    "test_password('#Te5t300')\n",
    "test_password('J*90j12374')\n",
    "test_password('Michheeul')\n",
    "test_password('Monk3y6')\n"
   ]
  }
 ],
 "metadata": {
  "anaconda-cloud": {},
  "colab": {
   "include_colab_link": true,
   "name": "Desafio 12.ipynb",
   "provenance": []
  },
  "kernelspec": {
   "display_name": "Python 3",
   "language": "python",
   "name": "python3"
  },
  "language_info": {
   "codemirror_mode": {
    "name": "ipython",
    "version": 3
   },
   "file_extension": ".py",
   "mimetype": "text/x-python",
   "name": "python",
   "nbconvert_exporter": "python",
   "pygments_lexer": "ipython3",
   "version": "3.8.3"
  }
 },
 "nbformat": 4,
 "nbformat_minor": 1
}
